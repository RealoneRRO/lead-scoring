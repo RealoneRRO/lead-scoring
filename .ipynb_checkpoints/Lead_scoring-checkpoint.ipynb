{
 "cells": [
  {
   "cell_type": "code",
   "execution_count": null,
   "id": "053f2092",
   "metadata": {},
   "outputs": [],
   "source": [
    "import pandas as pd\n",
    "import numpy as np\n",
    "import seaborn as sns\n",
    "\n",
    "from matplotlib import pyplot as plt\n",
    "%matplotlib inline"
   ]
  },
  {
   "cell_type": "code",
   "execution_count": null,
   "id": "528dcc79",
   "metadata": {},
   "outputs": [],
   "source": [
    "lead = pd.read_csv('leads.csv')\n",
    "lead.T"
   ]
  },
  {
   "cell_type": "code",
   "execution_count": null,
   "id": "c9fed4be",
   "metadata": {},
   "outputs": [],
   "source": []
  },
  {
   "cell_type": "markdown",
   "id": "325e4483",
   "metadata": {},
   "source": [
    "## Exploratory Data Analysis(EDA)"
   ]
  },
  {
   "cell_type": "code",
   "execution_count": null,
   "id": "fa7cc0eb",
   "metadata": {},
   "outputs": [],
   "source": [
    "lead.dtypes"
   ]
  },
  {
   "cell_type": "code",
   "execution_count": null,
   "id": "55f2518c",
   "metadata": {},
   "outputs": [],
   "source": [
    "lead.columns = lead.columns.str.lower().str.replace(' ', '_')\n",
    "\n",
    "categorical_columns = list(lead.dtypes[lead.dtypes == 'object'].index)\n",
    "\n",
    "\n",
    "for c in categorical_columns:\n",
    "    lead[c] = lead[c].str.lower().str.replace(' ', '_')\n",
    "    lead[c] = lead[c].replace(to_replace=np.NaN, value='unk')\n",
    "    "
   ]
  },
  {
   "cell_type": "code",
   "execution_count": null,
   "id": "9cc6bbba",
   "metadata": {},
   "outputs": [],
   "source": [
    "lead.describe().round()"
   ]
  },
  {
   "cell_type": "code",
   "execution_count": null,
   "id": "55edfb3a",
   "metadata": {},
   "outputs": [],
   "source": [
    "#for c in ['asymmetrique_profile_score', 'asymmetrique_activity_score']:\n",
    "    #lead[c] = lead[c].replace(to_replace=\"16\", value=np.nan)"
   ]
  },
  {
   "cell_type": "code",
   "execution_count": null,
   "id": "179a17eb",
   "metadata": {},
   "outputs": [],
   "source": [
    "lead.isnull().sum()"
   ]
  },
  {
   "cell_type": "code",
   "execution_count": null,
   "id": "02cab9f4",
   "metadata": {},
   "outputs": [],
   "source": [
    "lead"
   ]
  },
  {
   "cell_type": "code",
   "execution_count": null,
   "id": "3592352f",
   "metadata": {},
   "outputs": [],
   "source": [
    "tts = pd.to_numeric(lead.total_time_spent_on_website, errors='coerce')"
   ]
  },
  {
   "cell_type": "code",
   "execution_count": null,
   "id": "a4cf98e9",
   "metadata": {},
   "outputs": [],
   "source": [
    "lead.total_time_spent_on_website = pd.to_numeric(lead.total_time_spent_on_website, errors='coerce')"
   ]
  },
  {
   "cell_type": "code",
   "execution_count": null,
   "id": "db20f6d3",
   "metadata": {},
   "outputs": [],
   "source": [
    "tts.isnull()"
   ]
  },
  {
   "cell_type": "markdown",
   "id": "16404dbd",
   "metadata": {},
   "source": [
    "all false shown their is no single row with nan. we can always check in following cell."
   ]
  },
  {
   "cell_type": "code",
   "execution_count": null,
   "id": "7ab11c13",
   "metadata": {},
   "outputs": [],
   "source": [
    "lead[tts.isnull()][['prospect_id', 'total_time_spent_on_website']]"
   ]
  },
  {
   "cell_type": "code",
   "execution_count": null,
   "id": "aaa04425",
   "metadata": {},
   "outputs": [],
   "source": [
    "lead.converted.head()"
   ]
  },
  {
   "cell_type": "code",
   "execution_count": null,
   "id": "c8215360",
   "metadata": {},
   "outputs": [],
   "source": [
    "lead.converted = (lead.converted == 1).astype(int)\n",
    "lead.converted"
   ]
  },
  {
   "cell_type": "code",
   "execution_count": null,
   "id": "4977e524",
   "metadata": {},
   "outputs": [],
   "source": [
    "for c in ['asymmetrique_profile_score', 'asymmetrique_activity_score']:\n",
    "        lead[c] = lead[c].replace(to_replace=np.nan, value=16)\n",
    "for c in ['page_views_per_visit', 'totalvisits']:\n",
    "        lead[c] = lead[c].replace(to_replace=np.nan, value=3)"
   ]
  },
  {
   "cell_type": "markdown",
   "id": "5115c9bf",
   "metadata": {},
   "source": [
    "## SETTING UP VALDATION FRAMEWORK"
   ]
  },
  {
   "cell_type": "code",
   "execution_count": null,
   "id": "4234271f",
   "metadata": {},
   "outputs": [],
   "source": [
    "from sklearn.model_selection import train_test_split"
   ]
  },
  {
   "cell_type": "code",
   "execution_count": null,
   "id": "b2404b13",
   "metadata": {},
   "outputs": [],
   "source": [
    "df_full_train, df_test = train_test_split(lead, test_size=0.2, random_state=1)"
   ]
  },
  {
   "cell_type": "markdown",
   "id": "2698bef8",
   "metadata": {},
   "source": [
    "The above code train_test_split split the dataset into two. So, we will need to split it again."
   ]
  },
  {
   "cell_type": "code",
   "execution_count": null,
   "id": "a0deb4be",
   "metadata": {},
   "outputs": [],
   "source": [
    "df_train, df_val = train_test_split(df_full_train, test_size=0.25, random_state=1)"
   ]
  },
  {
   "cell_type": "code",
   "execution_count": null,
   "id": "884a3d7f",
   "metadata": {},
   "outputs": [],
   "source": [
    "len(df_train), len(df_val), len(df_test)"
   ]
  },
  {
   "cell_type": "code",
   "execution_count": null,
   "id": "bf7a111b",
   "metadata": {},
   "outputs": [],
   "source": [
    "y_train = df_train.reset_index(drop=True)\n",
    "y_val = df_val.reset_index(drop=True)\n",
    "y_test = df_test.reset_index(drop=True)"
   ]
  },
  {
   "cell_type": "code",
   "execution_count": null,
   "id": "6e91a78f",
   "metadata": {},
   "outputs": [],
   "source": [
    "y_train = df_train.converted.values\n",
    "y_val = df_val.converted.values\n",
    "y_test = df_test.converted.values"
   ]
  },
  {
   "cell_type": "code",
   "execution_count": null,
   "id": "6434df68",
   "metadata": {},
   "outputs": [],
   "source": [
    "del df_train['converted']\n",
    "del df_val['converted']\n",
    "del df_test['converted']"
   ]
  },
  {
   "cell_type": "code",
   "execution_count": null,
   "id": "8b3781d1",
   "metadata": {},
   "outputs": [],
   "source": [
    "df_full_train = df_full_train.reset_index(drop=True)"
   ]
  },
  {
   "cell_type": "code",
   "execution_count": null,
   "id": "9810d7fa",
   "metadata": {},
   "outputs": [],
   "source": [
    "df_full_train.converted.value_counts(normalize=True)"
   ]
  },
  {
   "cell_type": "code",
   "execution_count": null,
   "id": "44417ed0",
   "metadata": {},
   "outputs": [],
   "source": [
    "global_converted_rate = df_full_train.converted.mean()\n",
    "round(global_converted_rate, 3)"
   ]
  },
  {
   "cell_type": "code",
   "execution_count": null,
   "id": "04272c93",
   "metadata": {
    "scrolled": true
   },
   "outputs": [],
   "source": [
    "lead.dtypes[lead.dtypes == \"object\"]"
   ]
  },
  {
   "cell_type": "code",
   "execution_count": null,
   "id": "84cbb38c",
   "metadata": {},
   "outputs": [],
   "source": [
    "numerical = ['totalvisits', 'total_time_spent_on_website', 'page_views_per_visit', \n",
    "             'asymmetrique_activity_score', 'asymmetrique_profile_score']\n",
    "categorical = [ 'lead_origin', 'lead_source', 'do_not_email','do_not_call',                                      \n",
    "               'last_activity', 'country', 'specialization', 'how_did_you_hear_about_x_education', \n",
    "               'what_is_your_current_occupation',                  \n",
    "               'what_matters_most_to_you_in_choosing_a_course', 'search', 'magazine', 'newspaper_article', \n",
    "               'x_education_forums',                               \n",
    "               'newspaper', 'digital_advertisement', 'through_recommendations', 'receive_more_updates_about_our_courses', \n",
    "               'tags',                                             \n",
    "               'lead_quality', 'update_me_on_supply_chain_content', 'get_updates_on_dm_content', 'lead_profile', \n",
    "               'city', 'asymmetrique_activity_index', 'asymmetrique_profile_index', \n",
    "               'i_agree_to_pay_the_amount_through_cheque', 'a_free_copy_of_mastering_the_interview', \n",
    "               'last_notable_activity']\n"
   ]
  },
  {
   "cell_type": "code",
   "execution_count": null,
   "id": "42a5d4cb",
   "metadata": {},
   "outputs": [],
   "source": [
    "df_full_train[categorical].nunique()"
   ]
  },
  {
   "cell_type": "markdown",
   "id": "0415078f",
   "metadata": {},
   "source": [
    "## Feature engineering"
   ]
  },
  {
   "cell_type": "markdown",
   "id": "166662d4",
   "metadata": {},
   "source": [
    "looking at the lead rate within the group"
   ]
  },
  {
   "cell_type": "code",
   "execution_count": null,
   "id": "591cd9e5",
   "metadata": {},
   "outputs": [],
   "source": []
  },
  {
   "cell_type": "code",
   "execution_count": null,
   "id": "8aea2442",
   "metadata": {},
   "outputs": [],
   "source": [
    "df_full_train"
   ]
  },
  {
   "cell_type": "code",
   "execution_count": null,
   "id": "a299a365",
   "metadata": {},
   "outputs": [],
   "source": [
    "high_mean = df_full_train[df_full_train.asymmetrique_profile_index == '01.high'].converted.mean()\n",
    "print('asymmetrique_profile_index == 01.high:', round(high_mean, 3))\n",
    "\n",
    "medium_mean = df_full_train[df_full_train.asymmetrique_profile_index == '02.medium'].converted.mean()\n",
    "print('asymmetrique_profile_index == 02.medium:  ', round(medium_mean, 3))"
   ]
  },
  {
   "cell_type": "code",
   "execution_count": null,
   "id": "e77d0fd5",
   "metadata": {},
   "outputs": [],
   "source": [
    "no_email_access_mean = df_full_train[df_full_train.do_not_email == 'yes'].converted.mean()\n",
    "print('do_not_email == yes:', round(no_email_access_mean, 3))\n",
    "\n",
    "email_access_mean = df_full_train[df_full_train.do_not_email == 'no'].converted.mean()\n",
    "print('do_not_email == no:  ', round(email_access_mean, 3))"
   ]
  },
  {
   "cell_type": "markdown",
   "id": "5a540ae3",
   "metadata": {},
   "source": [
    "converted rate = global mean - group"
   ]
  },
  {
   "cell_type": "code",
   "execution_count": null,
   "id": "af3e76b7",
   "metadata": {},
   "outputs": [],
   "source": [
    "global_converted_rate - no_email_access_mean"
   ]
  },
  {
   "cell_type": "markdown",
   "id": "0005328d",
   "metadata": {},
   "source": [
    "Risk Ratio \n",
    "\n",
    "(group / global) mean they are literally the same but different method"
   ]
  },
  {
   "cell_type": "code",
   "execution_count": null,
   "id": "1d476dc9",
   "metadata": {},
   "outputs": [],
   "source": [
    " no_email_access_mean / global_converted_rate"
   ]
  },
  {
   "cell_type": "code",
   "execution_count": null,
   "id": "ca9f761b",
   "metadata": {},
   "outputs": [],
   "source": [
    " email_access_mean / global_converted_rate"
   ]
  },
  {
   "cell_type": "code",
   "execution_count": null,
   "id": "4c1254f0",
   "metadata": {},
   "outputs": [],
   "source": [
    "df_group = df_full_train.groupby(by='asymmetrique_profile_index').converted.agg(['mean'])\n",
    "df_group['diff'] = df_group['mean'] - global_converted_rate\n",
    "df_group['risk'] = df_group['mean'] / global_converted_rate\n",
    "df_group"
   ]
  },
  {
   "cell_type": "code",
   "execution_count": null,
   "id": "249eca9f",
   "metadata": {},
   "outputs": [],
   "source": [
    "for col in categorical:\n",
    "    print(col)\n",
    "    df_group = df_full_train.groupby(by=col).converted.agg(['mean'])\n",
    "    df_group['diff'] = df_group['mean'] - global_converted_rate\n",
    "    df_group['risk'] = df_group['mean'] / global_converted_rate\n",
    "    display(df_group)\n",
    "    print()\n",
    "    print()"
   ]
  },
  {
   "cell_type": "markdown",
   "id": "e5cdbc13",
   "metadata": {},
   "source": [
    "# Mutual Information\n",
    "it the order of how important feature is to the target variables"
   ]
  },
  {
   "cell_type": "code",
   "execution_count": null,
   "id": "ea29055d",
   "metadata": {},
   "outputs": [],
   "source": [
    "from sklearn.metrics import mutual_info_score"
   ]
  },
  {
   "cell_type": "code",
   "execution_count": null,
   "id": "5a1e2d85",
   "metadata": {},
   "outputs": [],
   "source": [
    "mutual_info_score(df_full_train.converted, df_full_train.do_not_call)"
   ]
  },
  {
   "cell_type": "code",
   "execution_count": null,
   "id": "4dc8bf3b",
   "metadata": {},
   "outputs": [],
   "source": [
    "mutual_info_score(df_full_train.converted, df_full_train.asymmetrique_profile_index)"
   ]
  },
  {
   "cell_type": "code",
   "execution_count": null,
   "id": "a984e11f",
   "metadata": {},
   "outputs": [],
   "source": [
    "mutual_info_score(df_full_train.converted, df_full_train.do_not_email)"
   ]
  },
  {
   "cell_type": "code",
   "execution_count": null,
   "id": "1ff0e0a1",
   "metadata": {},
   "outputs": [],
   "source": [
    "def mutual_info_converted_score(series):\n",
    "    return mutual_info_score(series, df_full_train.converted)"
   ]
  },
  {
   "cell_type": "code",
   "execution_count": null,
   "id": "bf4b674a",
   "metadata": {},
   "outputs": [],
   "source": [
    "mi = df_full_train[categorical].apply(mutual_info_converted_score)\n",
    "mi.sort_values(ascending=True)"
   ]
  },
  {
   "cell_type": "markdown",
   "id": "c6b35616",
   "metadata": {},
   "source": [
    "# feature correlation"
   ]
  },
  {
   "cell_type": "code",
   "execution_count": null,
   "id": "bca36dd1",
   "metadata": {},
   "outputs": [],
   "source": [
    "df_full_train.totalvisits.max()"
   ]
  },
  {
   "cell_type": "code",
   "execution_count": null,
   "id": "847e8f73",
   "metadata": {},
   "outputs": [],
   "source": [
    "df_full_train[numerical].corrwith(df_full_train.converted)"
   ]
  },
  {
   "cell_type": "markdown",
   "id": "6acaac80",
   "metadata": {},
   "source": [
    "very high correlation"
   ]
  },
  {
   "cell_type": "markdown",
   "id": "3845edde",
   "metadata": {},
   "source": [
    "# One-Hot encoding"
   ]
  },
  {
   "cell_type": "code",
   "execution_count": null,
   "id": "55ff35b9",
   "metadata": {},
   "outputs": [],
   "source": [
    "from sklearn.feature_extraction import DictVectorizer"
   ]
  },
  {
   "cell_type": "code",
   "execution_count": null,
   "id": "798eb7a0",
   "metadata": {},
   "outputs": [],
   "source": [
    "dv = DictVectorizer(sparse=False)\n",
    "\n",
    "train_dict = df_train[categorical + numerical].to_dict(orient='records')\n",
    "X_train = dv.fit_transform(train_dict)\n",
    "\n",
    "val_dict = df_val[categorical + numerical].to_dict(orient='records')\n",
    "X_val = dv.transform(val_dict)\n"
   ]
  },
  {
   "cell_type": "code",
   "execution_count": null,
   "id": "4eaa0db7",
   "metadata": {},
   "outputs": [],
   "source": [
    "def sigmoid(z):\n",
    "    return 1 / (1 + np.exp(-z))"
   ]
  },
  {
   "cell_type": "code",
   "execution_count": null,
   "id": "0e3ea48c",
   "metadata": {},
   "outputs": [],
   "source": [
    "z = np.linspace(-7, 7, 51)"
   ]
  },
  {
   "cell_type": "code",
   "execution_count": null,
   "id": "e82dea20",
   "metadata": {},
   "outputs": [],
   "source": [
    "sigmoid(100000)"
   ]
  },
  {
   "cell_type": "code",
   "execution_count": null,
   "id": "b56a3686",
   "metadata": {},
   "outputs": [],
   "source": [
    "plt.plot(z, sigmoid(z))"
   ]
  },
  {
   "cell_type": "markdown",
   "id": "bf3f6231",
   "metadata": {},
   "source": [
    "# Logistic Regression\n",
    "* Binary Classification\n",
    "* Linear vs Logistic Regression"
   ]
  },
  {
   "cell_type": "code",
   "execution_count": null,
   "id": "4552a5b0",
   "metadata": {},
   "outputs": [],
   "source": [
    "from sklearn.linear_model import LogisticRegression"
   ]
  },
  {
   "cell_type": "code",
   "execution_count": null,
   "id": "ae548382",
   "metadata": {},
   "outputs": [],
   "source": [
    "model = LogisticRegression(solver='liblinear', C=1.0, max_iter=1000)\n",
    "model.fit(X_train, y_train)"
   ]
  },
  {
   "cell_type": "code",
   "execution_count": null,
   "id": "a68487ac",
   "metadata": {},
   "outputs": [],
   "source": [
    "model.intercept_[0]"
   ]
  },
  {
   "cell_type": "code",
   "execution_count": null,
   "id": "92a5dc31",
   "metadata": {},
   "outputs": [],
   "source": [
    "model.coef_[0].round(3)"
   ]
  },
  {
   "cell_type": "code",
   "execution_count": null,
   "id": "a35f0b6c",
   "metadata": {},
   "outputs": [],
   "source": [
    "y_pred = model.predict_proba(X_val)[:, 1]"
   ]
  },
  {
   "cell_type": "code",
   "execution_count": null,
   "id": "f1587db5",
   "metadata": {},
   "outputs": [],
   "source": [
    "lead_decision = (y_pred >= 0.5)\n",
    "lead_decision"
   ]
  },
  {
   "cell_type": "code",
   "execution_count": null,
   "id": "317d6960",
   "metadata": {},
   "outputs": [],
   "source": [
    "y_val"
   ]
  },
  {
   "cell_type": "code",
   "execution_count": null,
   "id": "ff6ba98a",
   "metadata": {},
   "outputs": [],
   "source": [
    "(lead_decision == y_val).mean()"
   ]
  },
  {
   "cell_type": "code",
   "execution_count": null,
   "id": "6b91e2fc",
   "metadata": {},
   "outputs": [],
   "source": [
    "lead_pred = pd.DataFrame()\n",
    "lead_pred['probability'] = y_pred\n",
    "lead_pred['prediction'] = lead_decision.astype(int)\n",
    "lead_pred['actual'] = y_val"
   ]
  },
  {
   "cell_type": "code",
   "execution_count": null,
   "id": "4f72111c",
   "metadata": {},
   "outputs": [],
   "source": [
    "lead_pred['correct'] = lead_pred.prediction == lead_pred.actual"
   ]
  },
  {
   "cell_type": "code",
   "execution_count": null,
   "id": "4b1a3cf5",
   "metadata": {},
   "outputs": [],
   "source": [
    "lead_pred.correct.mean()"
   ]
  },
  {
   "cell_type": "code",
   "execution_count": null,
   "id": "de0ffa44",
   "metadata": {},
   "outputs": [],
   "source": [
    "lead_decision.astype(int)"
   ]
  },
  {
   "cell_type": "markdown",
   "id": "f58d6d9c",
   "metadata": {},
   "source": [
    "# Model Interpretation"
   ]
  },
  {
   "cell_type": "code",
   "execution_count": null,
   "id": "77bfc90f",
   "metadata": {},
   "outputs": [],
   "source": [
    "dict(zip(dv.get_feature_names(), model.coef_[0].round(3)))"
   ]
  },
  {
   "cell_type": "code",
   "execution_count": null,
   "id": "d5d92019",
   "metadata": {},
   "outputs": [],
   "source": [
    "small = ['asymmetrique_activity_score', 'total_time_spent_on_website', 'asymmetrique_profile_score']"
   ]
  },
  {
   "cell_type": "code",
   "execution_count": null,
   "id": "9f452501",
   "metadata": {},
   "outputs": [],
   "source": [
    "df_train[small].iloc[:10].to_dict(orient='records')"
   ]
  },
  {
   "cell_type": "code",
   "execution_count": null,
   "id": "b110e17c",
   "metadata": {},
   "outputs": [],
   "source": [
    "dicts_train_small = df_train[small].to_dict(orient='records')\n",
    "dicts_val_small = df_val[small].to_dict(orient='records')"
   ]
  },
  {
   "cell_type": "code",
   "execution_count": null,
   "id": "1ab4907e",
   "metadata": {},
   "outputs": [],
   "source": [
    "dv_small = DictVectorizer(sparse=False)\n",
    "dv_small.fit(dicts_train_small)"
   ]
  },
  {
   "cell_type": "code",
   "execution_count": null,
   "id": "f6e84d49",
   "metadata": {},
   "outputs": [],
   "source": [
    "dv_small.get_feature_names()"
   ]
  },
  {
   "cell_type": "code",
   "execution_count": null,
   "id": "f39226b3",
   "metadata": {},
   "outputs": [],
   "source": [
    "X_train_small = dv_small.transform(dicts_train_small)"
   ]
  },
  {
   "cell_type": "markdown",
   "id": "29c06d42",
   "metadata": {},
   "source": [
    "Let train the model"
   ]
  },
  {
   "cell_type": "code",
   "execution_count": null,
   "id": "e10ec602",
   "metadata": {},
   "outputs": [],
   "source": [
    "model_small = LogisticRegression()\n",
    "model_small.fit(X_train_small, y_train)"
   ]
  },
  {
   "cell_type": "code",
   "execution_count": null,
   "id": "0725c314",
   "metadata": {},
   "outputs": [],
   "source": [
    "dicts_full_train = df_full_train[categorical + numerical].to_dict(orient='records')"
   ]
  },
  {
   "cell_type": "code",
   "execution_count": null,
   "id": "8fc8b18a",
   "metadata": {},
   "outputs": [],
   "source": [
    "dv = DictVectorizer(sparse=False)\n",
    "X_full_train = dv.fit_transform(dicts_full_train)"
   ]
  },
  {
   "cell_type": "code",
   "execution_count": null,
   "id": "f1208a66",
   "metadata": {},
   "outputs": [],
   "source": [
    "y_full_train = df_full_train.converted.values"
   ]
  },
  {
   "cell_type": "code",
   "execution_count": null,
   "id": "02249727",
   "metadata": {},
   "outputs": [],
   "source": [
    "model_train = LogisticRegression(solver='liblinear', C=1.0, max_iter=1000)\n",
    "model_train.fit(X_full_train, y_full_train)"
   ]
  },
  {
   "cell_type": "code",
   "execution_count": null,
   "id": "75fdb1bb",
   "metadata": {},
   "outputs": [],
   "source": [
    "dicts_test = df_test[categorical + numerical].to_dict(orient='records')"
   ]
  },
  {
   "cell_type": "code",
   "execution_count": null,
   "id": "694b04b0",
   "metadata": {},
   "outputs": [],
   "source": [
    "X_test = dv.transform(dicts_test)"
   ]
  },
  {
   "cell_type": "code",
   "execution_count": null,
   "id": "376181e6",
   "metadata": {},
   "outputs": [],
   "source": [
    "model.intercept_[0]"
   ]
  },
  {
   "cell_type": "code",
   "execution_count": null,
   "id": "2b0e2367",
   "metadata": {},
   "outputs": [],
   "source": [
    "model.coef_[0].round(3)"
   ]
  },
  {
   "cell_type": "markdown",
   "id": "f559071e",
   "metadata": {},
   "source": [
    "checking the number of features is in train and test"
   ]
  },
  {
   "cell_type": "code",
   "execution_count": null,
   "id": "f60a9775",
   "metadata": {},
   "outputs": [],
   "source": [
    "print(\"Number of features in training data:\", X_train.shape[1])"
   ]
  },
  {
   "cell_type": "code",
   "execution_count": null,
   "id": "2e0f1f85",
   "metadata": {},
   "outputs": [],
   "source": [
    "print(\"Number of features in test data:\", X_test.shape[1])"
   ]
  },
  {
   "cell_type": "code",
   "execution_count": null,
   "id": "2d597d71",
   "metadata": {},
   "outputs": [],
   "source": [
    "X_test_subset = X_test[:, :215] "
   ]
  },
  {
   "cell_type": "markdown",
   "id": "41a52a2e",
   "metadata": {},
   "source": [
    "now we can predict with subset of test"
   ]
  },
  {
   "cell_type": "code",
   "execution_count": null,
   "id": "28e02a5a",
   "metadata": {},
   "outputs": [],
   "source": [
    "y_pred = model.predict_proba(X_test_subset)[:, 1]"
   ]
  },
  {
   "cell_type": "code",
   "execution_count": null,
   "id": "10e7035d",
   "metadata": {},
   "outputs": [],
   "source": [
    "lead_decision = (y_pred >= 0.5)"
   ]
  },
  {
   "cell_type": "code",
   "execution_count": null,
   "id": "43d46485",
   "metadata": {},
   "outputs": [],
   "source": [
    "(lead_decision == y_test)"
   ]
  },
  {
   "cell_type": "code",
   "execution_count": null,
   "id": "a98072d1",
   "metadata": {},
   "outputs": [],
   "source": [
    "customer = dicts_test[-1]\n",
    "customer"
   ]
  },
  {
   "cell_type": "code",
   "execution_count": null,
   "id": "faf6d179",
   "metadata": {},
   "outputs": [],
   "source": []
  },
  {
   "cell_type": "code",
   "execution_count": null,
   "id": "1a1856bc",
   "metadata": {},
   "outputs": [],
   "source": [
    "X_small = dv.transform([customer])\n",
    "X_small_subset = X_small[:, :215]\n",
    "model.predict_proba(X_small_subset)[0, 1]"
   ]
  },
  {
   "cell_type": "code",
   "execution_count": null,
   "id": "9192f79f",
   "metadata": {},
   "outputs": [],
   "source": [
    "y_test[-1]"
   ]
  },
  {
   "cell_type": "code",
   "execution_count": null,
   "id": "41a7f5c1",
   "metadata": {},
   "outputs": [],
   "source": [
    "lead_decision"
   ]
  },
  {
   "cell_type": "code",
   "execution_count": null,
   "id": "b7379294",
   "metadata": {},
   "outputs": [],
   "source": [
    "y_val"
   ]
  },
  {
   "cell_type": "code",
   "execution_count": null,
   "id": "6d7c61a0",
   "metadata": {},
   "outputs": [],
   "source": [
    "pip install streamlit"
   ]
  },
  {
   "cell_type": "code",
   "execution_count": null,
   "id": "c4b46a80",
   "metadata": {},
   "outputs": [],
   "source": []
  },
  {
   "cell_type": "code",
   "execution_count": null,
   "id": "4da34bb5",
   "metadata": {},
   "outputs": [],
   "source": []
  }
 ],
 "metadata": {
  "kernelspec": {
   "display_name": "Python 3 (ipykernel)",
   "language": "python",
   "name": "python3"
  },
  "language_info": {
   "codemirror_mode": {
    "name": "ipython",
    "version": 3
   },
   "file_extension": ".py",
   "mimetype": "text/x-python",
   "name": "python",
   "nbconvert_exporter": "python",
   "pygments_lexer": "ipython3",
   "version": "3.9.13"
  }
 },
 "nbformat": 4,
 "nbformat_minor": 5
}
